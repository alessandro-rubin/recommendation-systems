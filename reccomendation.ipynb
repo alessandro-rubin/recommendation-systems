{
 "cells": [
  {
   "attachments": {},
   "cell_type": "markdown",
   "metadata": {},
   "source": [
    "# Reccomendation systems and matrix factorization"
   ]
  },
  {
   "cell_type": "code",
   "execution_count": 11,
   "metadata": {},
   "outputs": [],
   "source": [
    "import numpy as np\n"
   ]
  },
  {
   "cell_type": "code",
   "execution_count": 12,
   "metadata": {},
   "outputs": [],
   "source": [
    "\n",
    "def matrix_factorization(R, P, Q, K, steps=5000, alpha=0.0002, beta=0.02):\n",
    "    '''\n",
    "    R: rating matrix\n",
    "    P: |U| * K (User features matrix)\n",
    "    Q: |D| * K (Item features matrix)\n",
    "    K: latent features\n",
    "    steps: iterations\n",
    "    alpha: learning rate\n",
    "    beta: regularization parameter'''\n",
    "    Q = Q.T\n",
    "\n",
    "    for step in range(steps):\n",
    "        for i in range(len(R)):\n",
    "            for j in range(len(R[i])):\n",
    "                if R[i][j] > 0:\n",
    "                    # calculate error\n",
    "                    eij = R[i][j] - np.dot(P[i,:],Q[:,j])\n",
    "\n",
    "                    for k in range(K):\n",
    "                        # calculate gradient with a and beta parameter\n",
    "                        P[i][k] = P[i][k] + alpha * (2 * eij * Q[k][j] - beta * P[i][k])\n",
    "                        Q[k][j] = Q[k][j] + alpha * (2 * eij * P[i][k] - beta * Q[k][j])\n",
    "\n",
    "        eR = np.dot(P,Q)\n",
    "\n",
    "        e = 0\n",
    "\n",
    "        for i in range(len(R)):\n",
    "\n",
    "            for j in range(len(R[i])):\n",
    "\n",
    "                if R[i][j] > 0:\n",
    "\n",
    "                    e = e + pow(R[i][j] - np.dot(P[i,:],Q[:,j]), 2)\n",
    "\n",
    "                    for k in range(K):\n",
    "\n",
    "                        e = e + (beta/2) * (pow(P[i][k],2) + pow(Q[k][j],2))\n",
    "        # 0.001: local minimum\n",
    "        if e < 0.001:\n",
    "\n",
    "            break\n",
    "\n",
    "    return P, Q.T"
   ]
  },
  {
   "cell_type": "code",
   "execution_count": 14,
   "metadata": {},
   "outputs": [
    {
     "name": "stdout",
     "output_type": "stream",
     "text": [
      "[[ 1.20240606 -0.11174763  1.40282051  0.72548966  1.23378797]\n",
      " [ 0.48381414  0.38847114  1.50285771  0.48944556  0.42536389]\n",
      " [ 0.65926498  1.92865056 -0.18551425  0.42383444  0.38205828]\n",
      " [ 0.90011508  1.22614539 -0.36390508  0.09142982  0.91922067]\n",
      " [ 0.5134415   1.53598515  1.01510828 -0.18564866  1.06781069]\n",
      " [ 0.6179671   0.88203217  0.52803688  0.15957149  0.32611145]] \n",
      " [[ 0.53991441  0.21915302  1.96378829  0.52821591  0.98959219]\n",
      " [ 1.03170638 -0.11010547  0.34291717  0.89753562  0.46477219]\n",
      " [ 1.09872809  1.58326772  1.18851528  0.31408468  0.7724855 ]\n",
      " [ 0.60330625  2.15725149 -0.34641157  0.18340436  0.70764989]]\n"
     ]
    }
   ],
   "source": [
    "R = [\n",
    "\n",
    "     [5,3,0,1],\n",
    "\n",
    "     [4,0,0,1],\n",
    "\n",
    "     [1,1,0,5],\n",
    "\n",
    "     [1,0,0,4],\n",
    "\n",
    "     [0,1,5,4],\n",
    "    \n",
    "     [2,1,3,0],\n",
    "\n",
    "    ]\n",
    "\n",
    "R = np.array(R)\n",
    "# N: num of User\n",
    "N = len(R)\n",
    "# M: num of Movie\n",
    "M = len(R[0])\n",
    "# Num of Features\n",
    "K = 5\n",
    "\n",
    " \n",
    "P = np.random.rand(N,K)\n",
    "Q = np.random.rand(M,K)\n",
    "\n",
    " \n",
    "\n",
    "nP, nQ = matrix_factorization(R, P, Q, K)\n",
    "\n",
    "print(nP,'\\n',nQ)\n",
    "\n",
    "nR = np.dot(nP, nQ.T)"
   ]
  },
  {
   "cell_type": "code",
   "execution_count": null,
   "metadata": {},
   "outputs": [
    {
     "name": "stdout",
     "output_type": "stream",
     "text": [
      "[[5 3 0 1]\n",
      " [4 0 0 1]\n",
      " [1 1 0 5]\n",
      " [1 0 0 4]\n",
      " [0 1 5 4]\n",
      " [2 1 3 0]]\n",
      "[[4.98432597 2.96434211 4.695791   1.00221484]\n",
      " [3.97046504 2.27454819 3.9242913  0.9999445 ]\n",
      " [1.02728262 0.93412167 3.90578234 4.96992816]\n",
      " [0.98843743 0.71498359 3.66086552 3.97985621]\n",
      " [2.11521101 1.10008529 4.94645641 4.00172386]\n",
      " [1.99633714 0.94407259 3.02082163 1.46386882]]\n"
     ]
    }
   ],
   "source": [
    "print(R)\n",
    "print(nR)"
   ]
  }
 ],
 "metadata": {
  "kernelspec": {
   "display_name": "base",
   "language": "python",
   "name": "python3"
  },
  "language_info": {
   "codemirror_mode": {
    "name": "ipython",
    "version": 3
   },
   "file_extension": ".py",
   "mimetype": "text/x-python",
   "name": "python",
   "nbconvert_exporter": "python",
   "pygments_lexer": "ipython3",
   "version": "3.8.8"
  },
  "orig_nbformat": 4,
  "vscode": {
   "interpreter": {
    "hash": "68b83d36125722a4cfa54faf6473e9cfaf94e2e30a32ae0e02287cb9789563ab"
   }
  }
 },
 "nbformat": 4,
 "nbformat_minor": 2
}
