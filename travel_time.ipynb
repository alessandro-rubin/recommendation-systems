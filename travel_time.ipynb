{
 "cells": [
  {
   "attachments": {},
   "cell_type": "markdown",
   "metadata": {},
   "source": [
    "# Travel time estimation using tensor decomposition"
   ]
  },
  {
   "attachments": {},
   "cell_type": "markdown",
   "metadata": {},
   "source": [
    "Resources:\n",
    "\n",
    "https://www.microsoft.com/en-us/research/publication/trajectory-data-mining-an-overview/ \n",
    "\n",
    "https://www.microsoft.com/en-us/research/wp-content/uploads/2015/09/TrajectoryDataMining-tist-yuzheng.pdf\n",
    "\n",
    "\n",
    "Formula to implement:\n",
    "\n",
    "\n",
    "\\begin{aligned}\n",
    "\\mathcal{L}(S, R, U, T, F, G)=&\\frac{1}{2}\\left\\|\\mathcal{A}-S \\times_R R \\times_U U \\times_T T\\right\\|^2+\\frac{\\lambda_1}{2}\\|X-T G\\|^2 \\\\\n",
    "+&\\frac{\\lambda_2}{2}\\|Y-R F\\|^2+\\frac{\\lambda_3}{2}\\left(\\|S\\|^2+\\|R\\|^2+\\|U\\|^2+\\|T\\|^2+\\|F\\|^2+\\|G\\|^2\\right)\n",
    "\\end{aligned}\n",
    "\n",
    "\n",
    "\n",
    "\n",
    "\n"
   ]
  },
  {
   "attachments": {},
   "cell_type": "markdown",
   "metadata": {},
   "source": [
    "## Formula explanation\n",
    "\n",
    "This formula describes the loss function for a tensor decomposition (factorization) method in order to estimate the three-dimensional tensor $\\mathcal{A}$. \n",
    "\n",
    "$\\mathcal{A}$ encodes the user-specific travel time in the following way: and entry $\\mathcal{A_{ijk}}$ of $\\mathcal{A}$ is the time that the $j$-th driver takes to travel in the $i$-th road segment in the $k$-th daily time slot. Therefore $\\mathcal{A}$ is essentially a three dimensional array. We can know certain entries of this tensor by tracking user's GPS signal, but a large amount of entries in this tensor are unknowns, as users will only drive in certain roads at certain times, therefore we aim to estimate them. Intuitively, we could try to guess some of the missing entries based on existing ones by eyeballing correlations in the data: for example, if at a given time of the day the travel time for users is large in certain road segments, we expect that there is traffic there, and therefore we can estimate long travel times for other drivers, too.\n",
    "\n",
    "\n",
    "In order to help doing this 2 more matrices are introduced: $X$ and $Y$, with their associated term in the loss function enabling the factorization of each of them as the product of two matrices. $X$ represents the correlation between time slots and coarse grained traffic conditions (precisely number of vehicles transiting in a grid slot in a given time interval), while $Y$ stores road segments geographical features.\n",
    "\n",
    "Finally, a regularization term is added in order to prevent overfitting, this term in the loss function helps keeping all the components of the matrices and tensors small.\n",
    "\n",
    "We need to estimate the tensor $\\mathcal{A}$ by decomposing it into a product. The measure of the \"fitness\" of the decomposition is given by the sum of the square of the difference between the entries for which A is known and its decomposition $\\phi =S \\times_R R \\times_U U \\times_T T $, ie.e the Frobenius norm $||\\mathcal{A}- \\phi||_{F}$ and similarly with the matrices $X$ and $Y$. \n",
    "\n",
    "More explicitely:\n",
    "\n",
    "$$||\\mathcal{A}- \\phi||_{F}= \\sum_i \\sum_j \\sum_k (A_{ijk}-\\phi_{ijk})^2$$\n",
    "\n",
    "From this, we compute the gradient of this loss function with respect each component of the matrices we decompose A into, and use this in a gradient descent algorithm. Each iteration computes the gradient and updates the matrices in such a way the loss is minimized.\n",
    "\n",
    "In synthesis, this is an optimization algorithm in which array are factorized in lower rank arrays, in order to minimize the squared difference between the entries of the given array and the one estimated with the factorization. \n",
    "\n",
    "Data types involved are at most rank-3 numerical arrays. The input are the arrays $\\mathcal{A}$, $X$, and $Y$, obtained by data mining, e.g. by analyzing GPS trajectories, maps etc.. The output is the tensor $\\mathcal{A}$ estimated by the product (more precisely the contraction) of the tensor $S$ with $R$, $U$, $T$, all estimated in the optimization algorithm.\n",
    "\n",
    "In order to develop the algorithm one can use many possible programming language and libraries. \n",
    "\n",
    "An algorithm using he library numpy can get the job done, however more advanced packages such as scipy, tensorly, scikit-learn, pytorch and tensorflow all offer already developed methods to implement such algorithm, as optimization problems involving tensors are quite common in the field of data science.\n",
    "\n",
    "A key point to consider is that we only know some entries of the tensor $\\mathcal{A}$, and we can only use those in order to estimate the factor tensors $S$, $R$, $U$, $T$. \n"
   ]
  },
  {
   "attachments": {},
   "cell_type": "markdown",
   "metadata": {},
   "source": [
    "## Implementation (prototype solution)"
   ]
  },
  {
   "attachments": {},
   "cell_type": "markdown",
   "metadata": {},
   "source": [
    "An example of a gradient descent algorithm and its implementation is given below. The gradient is computed. Then for each $i$, $j$, $k$, for which the tensor $\\mathcal{A}$ is known, the gradient is used to update the variables:\n",
    "\n",
    "\\begin{aligned}\n",
    "\\phi_{i j k}= & S \\times_R R_{i *} \\times_U U_{j *} \\times_T T_{k *} ; \\\\\n",
    "R_{i *} & \\leftarrow R_{i *}-\\eta \\lambda_3 R_{i *}-\\eta\\left(\\phi_{i j k}-\\mathcal{A}_{i j k}\\right) \\times S \\times_U U_{j *} \\times_T T_{k *} \\\\\n",
    "& -\\eta \\lambda_2\\left(R_{i *} \\times F-Y_{i *}\\right) \\times F ; \\\\\n",
    "U_{j *} \\leftarrow & U_{j *}-\\eta \\lambda_3 U_{j *}-\\eta\\left(\\phi_{i j k}-\\mathcal{A}_{i j k}\\right) \\times S \\times_R R_{i *} \\times_T T_{k *} \\\\\n",
    "T_{k *} \\leftarrow & T_{k *}-\\eta \\lambda_3 T_{k *}-\\eta\\left(\\phi_{i j k}-\\mathcal{A}_{i j k}\\right) \\times S \\times_R R_{i *} \\times_U U_{j *} \\\\\n",
    "& \\quad-\\eta \\lambda_1\\left(T_{k *} \\times G-X_{k *}\\right) \\times G ; \\\\\n",
    "S \\leftarrow & S-\\eta \\lambda_3 S-\\eta\\left(\\phi_{i j k}-\\mathcal{A}_{i j k}\\right) \\times R_{i *} \\otimes U_{j *} \\otimes T_{k *} \\\\\n",
    "G \\leftarrow & G-\\eta \\lambda_3 G-\\eta \\lambda_1\\left(T_{k *} \\times G-X_{k *}\\right) \\times T_{k *} \\\\\n",
    "F \\leftarrow & F-\\eta \\lambda_3 F-\\eta \\lambda_2\\left(R_{i *} \\times F-Y_{i *}\\right) \\times R_{i *}\n",
    "\\end{aligned}\n",
    "\n",
    "Note: there are also automatic ways to compute the gradient of a function wrt its argument, such as automatic differentiation in pytorch and tensorflow.\n",
    "\n",
    "There are also several other optimization techniques that do not involve computing gradients."
   ]
  },
  {
   "cell_type": "code",
   "execution_count": 107,
   "metadata": {},
   "outputs": [],
   "source": [
    "import numpy as np\n",
    "import matplotlib.pyplot as plt\n",
    "#from numba import jit, cuda #to speed up calculations"
   ]
  },
  {
   "cell_type": "code",
   "execution_count": null,
   "metadata": {},
   "outputs": [],
   "source": []
  },
  {
   "cell_type": "code",
   "execution_count": 108,
   "metadata": {},
   "outputs": [],
   "source": [
    "def phi_tensor(s,r,u,t):\n",
    "    ''' phi tensor, defined above.\n",
    "    it's the product of the tensor s with the matrices r,u,t\n",
    "    has the same dimensions of A'''\n",
    "    return np.einsum('ijk,ai,bj,ck->abc',s,r,u,t)\n",
    "def phi_ijk(s,r,u,t,a,b,c):\n",
    "    '''(i,j,k)th component of phi,\n",
    "    i.e. the contraction of s with r,u,t tensors'''\n",
    "    return np.einsum('ijk,i,j,k->',s,r[a,:],u[b,:],t[c,:])\n",
    "def phi_ijk_2(s,ri,uj,tk):\n",
    "    '''a possibly more optimized version\n",
    "    ri,uj,tk=r[i,:],u[j,:],t[k,:]'''\n",
    "    return np.einsum('ijk,i,j,k->',s,ri,uj,tk)\n",
    "def rut(r,u,t,a,b,c):\n",
    "    '''tensor product of i,j,k th components\n",
    "    of r,u,t'''\n",
    "    return np.einsum('i,j,k->ijk',r[a,:],u[b,:],t[c,:])\n",
    "def compute_loss(a,x,y,s,r,u,t,f,g,lamb1=1,lamb2=1,lamb3=1):\n",
    "    '''implementation of the loss function itself.\n",
    "    the loss is composed by the sum of 4 different terms,\n",
    "    they will be computed separately\n",
    "    1st term is the one involving a\n",
    "    2nd involves x\n",
    "    3rd involves y\n",
    "    4 is the regularization\n",
    "    '''\n",
    "    #problem: should sum only for i,j,k for which a_ijk >0: so I should implements a mask\n",
    "    phi=phi_tensor(s,r,u,t)\n",
    "    mask=np.where(a > 0, 1, 0)\n",
    "    first=np.linalg.norm((a-phi)*mask)**2\n",
    "    second=np.linalg.norm(x-t@g)**2\n",
    "    third=np.linalg.norm(y-r@f)**2\n",
    "    fourth=np.linalg.norm(s)**2+ np.linalg.norm(r)**2+ np.linalg.norm(u)**2+ np.linalg.norm(t)**2+ np.linalg.norm(f)**2+ np.linalg.norm(g)**2\n",
    "    loss=0.5*first+0.5*lamb1*second+lamb2*0.5*third+lamb3*0.5*fourth\n",
    "    return loss"
   ]
  },
  {
   "cell_type": "code",
   "execution_count": 109,
   "metadata": {},
   "outputs": [],
   "source": [
    "#latent dimensions\n",
    "dU=5\n",
    "dR=7\n",
    "dT=3\n",
    "# dimensions of X,Y tensor\n",
    "dX=11 #aka p\n",
    "dY=13 #aka q\n",
    "# dimensions of A tensor\n",
    "n=3 #road segments\n",
    "m= 9 #drivers\n",
    "l= 4#time slots\n"
   ]
  },
  {
   "cell_type": "code",
   "execution_count": 110,
   "metadata": {},
   "outputs": [],
   "source": [
    "#factorization tensors initialization. Those are the tensors the algorithm has to output\n",
    "\n",
    "s=np.random.rand(dR,dU,dT)\n",
    "r=np.random.rand(n,dR)\n",
    "u=np.random.rand(m,dU)\n",
    "t=np.random.rand(2*l,dT)\n",
    "phi=np.einsum('ijk,ai,bj,ck->abc',s,r,u,t)#tensor contraction between s,r,u,t: should be a nxmx2l tensor\n",
    "f=np.random.rand(dR,dY)\n",
    "g=np.random.rand(dT,dX)"
   ]
  },
  {
   "cell_type": "code",
   "execution_count": 111,
   "metadata": {},
   "outputs": [
    {
     "name": "stdout",
     "output_type": "stream",
     "text": [
      "(3, 9, 8)\n"
     ]
    }
   ],
   "source": [
    "## those tensors would be computed from available data, here in this toy model I randomly initialize them\n",
    "\n",
    "a=np.random.randint(0,15,size=(n,m,2*l))\n",
    "x=np.random.randint(0,5,size=(2*l,dX))\n",
    "y=np.random.randint(0,4,size=(n,dY))\n",
    "\n",
    "print(a.shape)"
   ]
  },
  {
   "cell_type": "code",
   "execution_count": 112,
   "metadata": {},
   "outputs": [
    {
     "data": {
      "text/plain": [
       "13116.000000000002"
      ]
     },
     "execution_count": 112,
     "metadata": {},
     "output_type": "execute_result"
    }
   ],
   "source": [
    "np.linalg.norm(a)**2"
   ]
  },
  {
   "cell_type": "code",
   "execution_count": 113,
   "metadata": {},
   "outputs": [],
   "source": [
    "mask=np.where(a > 0, 1, 0)#select only entries where a is greater than 0"
   ]
  },
  {
   "cell_type": "code",
   "execution_count": 115,
   "metadata": {},
   "outputs": [
    {
     "data": {
      "text/plain": [
       "4649.88987340487"
      ]
     },
     "execution_count": 115,
     "metadata": {},
     "output_type": "execute_result"
    }
   ],
   "source": [
    "phi=phi_tensor(s,r,u,t)\n",
    "np.einsum('abc,abc,abc->',a-phi,a-phi,mask)"
   ]
  },
  {
   "cell_type": "code",
   "execution_count": 116,
   "metadata": {},
   "outputs": [
    {
     "data": {
      "text/plain": [
       "4649.889873404867"
      ]
     },
     "execution_count": 116,
     "metadata": {},
     "output_type": "execute_result"
    }
   ],
   "source": [
    "np.einsum('abc,abc->',(a-phi)*mask,(a-phi)*mask)"
   ]
  },
  {
   "cell_type": "code",
   "execution_count": 117,
   "metadata": {},
   "outputs": [
    {
     "data": {
      "text/plain": [
       "5481.285001284545"
      ]
     },
     "execution_count": 117,
     "metadata": {},
     "output_type": "execute_result"
    }
   ],
   "source": [
    "np.einsum('abc,abc->',a-phi,a-phi)"
   ]
  },
  {
   "cell_type": "code",
   "execution_count": 123,
   "metadata": {},
   "outputs": [
    {
     "data": {
      "text/plain": [
       "7.052191094439479"
      ]
     },
     "execution_count": 123,
     "metadata": {},
     "output_type": "execute_result"
    }
   ],
   "source": [
    "i,j,k=0,1,5\n",
    "phi[i][j][k]"
   ]
  },
  {
   "cell_type": "code",
   "execution_count": 126,
   "metadata": {},
   "outputs": [
    {
     "data": {
      "text/plain": [
       "(11,)"
      ]
     },
     "execution_count": 126,
     "metadata": {},
     "output_type": "execute_result"
    }
   ],
   "source": [
    "(t@g-x)[k,:].shape"
   ]
  },
  {
   "cell_type": "code",
   "execution_count": 127,
   "metadata": {},
   "outputs": [
    {
     "data": {
      "text/plain": [
       "array([0.81114325, 0.1394046 , 0.46301488])"
      ]
     },
     "execution_count": 127,
     "metadata": {},
     "output_type": "execute_result"
    }
   ],
   "source": [
    "t.T[:,k]"
   ]
  },
  {
   "cell_type": "code",
   "execution_count": 128,
   "metadata": {},
   "outputs": [
    {
     "data": {
      "text/plain": [
       "array([[ 0.48854521, -2.87146815, -1.59463006, -1.65831897, -0.17912569,\n",
       "        -2.77256466,  0.23095518,  0.6441045 , -0.80344133, -2.06751542,\n",
       "        -1.84448588],\n",
       "       [ 0.08396229, -0.49349589, -0.2740561 , -0.2850018 , -0.03078488,\n",
       "        -0.47649815,  0.03969239,  0.110697  , -0.13808093, -0.35532707,\n",
       "        -0.31699679],\n",
       "       [ 0.27887023, -1.63908469, -0.91024297, -0.94659773, -0.10224811,\n",
       "        -1.58262883,  0.13183329,  0.36766622, -0.45861849, -1.18017428,\n",
       "        -1.05286508]])"
      ]
     },
     "execution_count": 128,
     "metadata": {},
     "output_type": "execute_result"
    }
   ],
   "source": [
    "np.einsum('a,b->ab',t.T[:,k],(t@g-x)[k,:])"
   ]
  },
  {
   "cell_type": "code",
   "execution_count": 129,
   "metadata": {},
   "outputs": [
    {
     "data": {
      "text/plain": [
       "array([[ 0.48854521, -2.87146815, -1.59463006, -1.65831897, -0.17912569,\n",
       "        -2.77256466,  0.23095518,  0.6441045 , -0.80344133, -2.06751542,\n",
       "        -1.84448588],\n",
       "       [ 0.08396229, -0.49349589, -0.2740561 , -0.2850018 , -0.03078488,\n",
       "        -0.47649815,  0.03969239,  0.110697  , -0.13808093, -0.35532707,\n",
       "        -0.31699679],\n",
       "       [ 0.27887023, -1.63908469, -0.91024297, -0.94659773, -0.10224811,\n",
       "        -1.58262883,  0.13183329,  0.36766622, -0.45861849, -1.18017428,\n",
       "        -1.05286508]])"
      ]
     },
     "execution_count": 129,
     "metadata": {},
     "output_type": "execute_result"
    }
   ],
   "source": [
    "np.tensordot( t[k,:],t[k,:]@g-x[k,:],axes=0)"
   ]
  },
  {
   "cell_type": "code",
   "execution_count": 130,
   "metadata": {},
   "outputs": [
    {
     "data": {
      "text/plain": [
       "7.052191094439479"
      ]
     },
     "execution_count": 130,
     "metadata": {},
     "output_type": "execute_result"
    }
   ],
   "source": [
    "np.einsum('ijk,i,j,k->',s,r[i,:],u[j,:],t[k,:])"
   ]
  },
  {
   "cell_type": "code",
   "execution_count": 131,
   "metadata": {},
   "outputs": [
    {
     "name": "stdout",
     "output_type": "stream",
     "text": [
      "(7, 5, 3)\n"
     ]
    }
   ],
   "source": [
    "print(rut(r,u,t,0,0,0).shape)"
   ]
  },
  {
   "cell_type": "code",
   "execution_count": 132,
   "metadata": {},
   "outputs": [
    {
     "data": {
      "text/plain": [
       "(7,)"
      ]
     },
     "execution_count": 132,
     "metadata": {},
     "output_type": "execute_result"
    }
   ],
   "source": [
    "np.einsum('abc,b,c->a',s,u[j],t[k]).shape"
   ]
  },
  {
   "cell_type": "code",
   "execution_count": 133,
   "metadata": {},
   "outputs": [
    {
     "data": {
      "text/plain": [
       "array([-2.27905316, -3.61439145, -3.52436837, -1.92567192, -2.65899892,\n",
       "       -2.64964509, -3.83208014])"
      ]
     },
     "execution_count": 133,
     "metadata": {},
     "output_type": "execute_result"
    }
   ],
   "source": [
    "r[i,:]-(phi_ijk(s,r,u,t,i,j,k)-a[i,j,k])*np.einsum('abc,b,c->a',s,u[j],t[k])-(r[i]@f-y[i])@f.T"
   ]
  },
  {
   "cell_type": "code",
   "execution_count": 134,
   "metadata": {},
   "outputs": [],
   "source": [
    "#@jit(target_backend='cuda')\n",
    "def matrix_factorization(a,x,y,epsilon=0.001,steps=1000,eta=0.001,dR=10,dU=10,dT=10,lamb1=1,lamb2=1,lamb3=1):\n",
    "    '''\n",
    "    element-wise optimization algorithm\n",
    "    a: target tensor of shape n x m x l \n",
    "    x,y: context matrices\n",
    "    steps: max iterations\n",
    "    eta: learning rate\n",
    "    epsilon: treshold for early stop\n",
    "    dR,dU,dT: dimensions of latent spaces\n",
    "    '''\n",
    "    n,m,twol=a.shape\n",
    "    dG=x.shape[1]\n",
    "    dF=y.shape[1]\n",
    "    #initialize s,r,u,t,f,g\n",
    "    s=np.random.rand(dR,dU,dT)\n",
    "    r=np.random.rand(n,dR)\n",
    "    u=np.random.rand(m,dU)\n",
    "    t=np.random.rand(twol,dT)\n",
    "    f=np.random.rand(dR,dF)\n",
    "    g=np.random.rand(dT,dG)\n",
    "    #for i,j,k for which a[ijk]=! 0\n",
    "        #compute gradient of loss\n",
    "    losses=[]\n",
    "    for steps in range(steps):\n",
    "        if True :#loss_i-loss_i-1 > epsilon\n",
    "            for i in range(n):\n",
    "                for j in range(m):\n",
    "                    for k in range(twol):\n",
    "                        if a[i,j,k]>0:\n",
    "                            phiijk=phi_ijk(s,r,u,t,i,j,k)\n",
    "                            #compute all gradients\n",
    "                            gradr=lamb3* r[i,:]+(phi_ijk(s,r,u,t,i,j,k)-a[i,j,k])*np.einsum('abc,b,c->a',s,u[j],t[k])+lamb2*(r[i]@f-y[i])@f.T\n",
    "                            gradu=lamb3* u[j,:]+(phi_ijk(s,r,u,t,i,j,k)-a[i,j,k])*np.einsum('abc,a,c->b',s,r[i],t[k])\n",
    "                            gradt=lamb3* t[k,:]+(phi_ijk(s,r,u,t,i,j,k)-a[i,j,k])*np.einsum('abc,a,b->c',s,r[i],u[j])+lamb1*(t[k]@g-x[k])@g.T\n",
    "                            grads=lamb3*s+ (phi_ijk(s,r,u,t,i,j,k)-a[i,j,k])*rut(r,u,t,i,j,k)\n",
    "                            gradg=lamb3*g+lamb1*np.tensordot( t[k,:],t[k,:]@g-x[k,:],axes=0)\n",
    "                            gradf=lamb3*f+lamb2*np.tensordot( r[i,:],r[i,:]@f-y[i,:],axes=0)\n",
    "                            #update all parameters\n",
    "                            r[i]=r[i] - eta*gradr\n",
    "                            u[j]=u[j] - eta*gradu\n",
    "                            t[k]=t[k] - eta*gradt\n",
    "                            g=g - gradg*eta\n",
    "                            f=f - gradf*eta\n",
    "                            s=s - eta*grads\n",
    "\n",
    "        #here, compute loss\n",
    "        loss=compute_loss(a,x,y,s,r,u,t,f,g,lamb1,lamb2,lamb3)\n",
    "        losses.append(loss)\n",
    "    return s,r,u,t,losses"
   ]
  },
  {
   "cell_type": "code",
   "execution_count": 135,
   "metadata": {},
   "outputs": [],
   "source": [
    "s,r,u,t,losses=matrix_factorization(a,x,y)"
   ]
  },
  {
   "cell_type": "code",
   "execution_count": 138,
   "metadata": {},
   "outputs": [
    {
     "data": {
      "image/png": "[encoded data removed]",
      "text/plain": [
       "<Figure size 640x480 with 1 Axes>"
      ]
     },
     "metadata": {},
     "output_type": "display_data"
    }
   ],
   "source": [
    "plt.plot(losses)\n",
    "plt.ylabel('Loss')\n",
    "plt.xlabel('step')\n",
    "plt.show()"
   ]
  }
 ],
 "metadata": {
  "kernelspec": {
   "display_name": "tf",
   "language": "python",
   "name": "python3"
  },
  "language_info": {
   "codemirror_mode": {
    "name": "ipython",
    "version": 3
   },
   "file_extension": ".py",
   "mimetype": "text/x-python",
   "name": "python",
   "nbconvert_exporter": "python",
   "pygments_lexer": "ipython3",
   "version": "3.10.7"
  },
  "orig_nbformat": 4,
  "vscode": {
   "interpreter": {
    "hash": "33a2e84c581f807a98512e14b5d3ba9d677e9d077bd64ce3b8213804b8999a19"
   }
  }
 },
 "nbformat": 4,
 "nbformat_minor": 2
}
