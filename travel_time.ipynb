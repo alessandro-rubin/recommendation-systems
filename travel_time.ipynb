{
 "cells": [
  {
   "attachments": {},
   "cell_type": "markdown",
   "metadata": {},
   "source": [
    "# Travel time estimation using tensor decomposition"
   ]
  },
  {
   "attachments": {},
   "cell_type": "markdown",
   "metadata": {},
   "source": [
    "Resources:\n",
    "\n",
    "https://www.microsoft.com/en-us/research/publication/trajectory-data-mining-an-overview/ \n",
    "\n",
    "https://www.microsoft.com/en-us/research/wp-content/uploads/2015/09/TrajectoryDataMining-tist-yuzheng.pdf\n",
    "\n",
    "\n",
    "Formula to implement:\n",
    "\n",
    "\n",
    "\\begin{aligned}\n",
    "\\mathcal{L}(S, R, U, T, F, G)=&\\frac{1}{2}\\left\\|\\mathcal{A}-S \\times_R R \\times_U U \\times_T T\\right\\|^2+\\frac{\\lambda_1}{2}\\|X-T G\\|^2 \\\\\n",
    "+&\\frac{\\lambda_2}{2}\\|Y-R F\\|^2+\\frac{\\lambda_3}{2}\\left(\\|S\\|^2+\\|R\\|^2+\\|U\\|^2+\\|T\\|^2+\\|F\\|^2+\\|G\\|^2\\right)\n",
    "\\end{aligned}"
   ]
  },
  {
   "attachments": {},
   "cell_type": "markdown",
   "metadata": {},
   "source": [
    "## Formula explaination\n",
    "\n",
    "This formula describes the loss function for a tensor decomposition (factorization) method in order to estimate the three dimensional tensor $\\mathcal{A}$. \n",
    "\n",
    "$\\mathcal{A}$ encodes the user-specific travel time in the following way: and entry $\\mathcal{A_{ijk}}$ of $\\mathcal{A}$ is the time that the $j$-th driver takes to travel in the $i$-th road segment in the $k$-th daily time slot. Therefore $\\mathcal{A}$ is essentially a three dimensional array. We can know certain entries of this tensor by tracking user's GPS signal, but a large amount of entries in this tensor are unknows, therefore we aim to estimate them. Intuitively, we could try to guess some of the missing entries based on existing ones by eyeballing correlations in the data: for example, if at a given time of the day the travel time for users is large in certain road segments, we expect that there is traffic there, and therefore we can estimate long travel times for other drivers, too.\n",
    "\n",
    "\n",
    "In order to do this also 2 more matrices are introduced: $X$ and $Y$"
   ]
  },
  {
   "attachments": {},
   "cell_type": "markdown",
   "metadata": {},
   "source": [
    "## Implementation"
   ]
  },
  {
   "cell_type": "code",
   "execution_count": 12,
   "metadata": {},
   "outputs": [],
   "source": [
    "import numpy as np"
   ]
  },
  {
   "cell_type": "code",
   "execution_count": 13,
   "metadata": {},
   "outputs": [],
   "source": [
    "#latent dimensions\n",
    "dU=5\n",
    "dR=6\n",
    "dT=3\n",
    "p=10\n",
    "q=10\n",
    "####\n",
    "n=3 #road segments\n",
    "m= 8 #drivers\n",
    "l= 4#time slots\n"
   ]
  },
  {
   "cell_type": "code",
   "execution_count": 15,
   "metadata": {},
   "outputs": [],
   "source": [
    "s=np.random.rand(dR,dU,dT)\n",
    "s\n",
    "r=np.random.rand(n,dR)\n",
    "u=np.random.rand(m,dU)\n",
    "t=np.random.rand(2*l,dT)\n",
    "y=np.einsum('ijk,ai,bj,ck->abc',s,r,u,t)#tensor contraction between s,r,u,t: should be a n*m*2l tensor\n"
   ]
  },
  {
   "cell_type": "code",
   "execution_count": null,
   "metadata": {},
   "outputs": [],
   "source": []
  },
  {
   "cell_type": "code",
   "execution_count": 16,
   "metadata": {},
   "outputs": [
    {
     "data": {
      "text/plain": [
       "array([[[ 2.26211852,  3.40212216,  3.40177246,  4.41033422,\n",
       "          3.18727429,  2.7809372 ,  4.68153428,  5.65535112],\n",
       "        [ 2.02958499,  3.09979699,  3.00794923,  4.17594307,\n",
       "          3.0733375 ,  2.58594354,  4.18834736,  5.20913351],\n",
       "        [ 1.66356535,  2.48659467,  2.51579024,  3.17319532,\n",
       "          2.28043949,  2.02104626,  3.44301716,  4.11505495],\n",
       "        [ 2.78997421,  4.12432653,  4.26054105,  5.11580534,\n",
       "          3.67148971,  3.35263681,  5.75078158,  6.76854044],\n",
       "        [ 1.3197007 ,  1.97497074,  1.99401412,  2.5263171 ,\n",
       "          1.80358356,  1.59255148,  2.7412    ,  3.27174135],\n",
       "        [ 1.70842778,  2.56266728,  2.57588775,  3.29768389,\n",
       "          2.35920861,  2.07071635,  3.54874838,  4.25251726],\n",
       "        [ 2.32479699,  3.53313425,  3.46248158,  4.69945611,\n",
       "          3.41690292,  2.90538875,  4.81778258,  5.91763385],\n",
       "        [ 2.22613195,  3.31057687,  3.38345048,  4.16330232,\n",
       "          2.93388309,  2.63282342,  4.63850315,  5.45983367]],\n",
       "\n",
       "       [[ 2.22480626,  3.38074869,  3.31332444,  4.49802411,\n",
       "          3.29068824,  2.80105188,  4.59598566,  5.66114264],\n",
       "        [ 2.01267868,  3.0994154 ,  2.95911976,  4.25903307,\n",
       "          3.16536774,  2.61594796,  4.14514697,  5.23817124],\n",
       "        [ 1.52979905,  2.33548121,  2.26898798,  3.13956132,\n",
       "          2.28231007,  1.91910491,  3.17650358,  3.92456274],\n",
       "        [ 2.5443849 ,  3.84742596,  3.80542957,  5.06283272,\n",
       "          3.73114769,  3.21740967,  5.22646153,  6.41852528],\n",
       "        [ 1.27754006,  1.93231504,  1.91166106,  2.53841381,\n",
       "          1.82423776,  1.56772656,  2.65747317,  3.22595752],\n",
       "        [ 1.768344  ,  2.66759347,  2.65203487,  3.48360992,\n",
       "          2.51610395,  2.17814952,  3.66533233,  4.44435555],\n",
       "        [ 2.31601665,  3.55805419,  3.4146364 ,  4.85482916,\n",
       "          3.54523806,  2.93817764,  4.81022153,  6.0054281 ],\n",
       "        [ 2.18783342,  3.28753469,  3.29453752,  4.24464614,\n",
       "          3.00458979,  2.62253041,  4.57072024,  5.46365732]],\n",
       "\n",
       "       [[ 3.56755749,  5.32977776,  5.39588151,  6.80008929,\n",
       "          4.94598675,  4.39326548,  7.34019751,  8.81460049],\n",
       "        [ 3.18552532,  4.83411096,  4.74845839,  6.41742876,\n",
       "          4.74359432,  4.0561109 ,  6.5425337 ,  8.08509971],\n",
       "        [ 2.68261806,  4.0115281 ,  4.05292838,  5.13490897,\n",
       "          3.77035841,  3.34302811,  5.49641583,  6.63784323],\n",
       "        [ 4.42145878,  6.49647644,  6.78515814,  7.93993976,\n",
       "          5.77337404,  5.36354923,  9.03705637, 10.60910562],\n",
       "        [ 2.12232824,  3.16376442,  3.2166837 ,  4.01235072,\n",
       "          2.90175638,  2.59134374,  4.37453929,  5.22441569],\n",
       "        [ 2.65761923,  3.95720677,  4.03291918,  5.00043062,\n",
       "          3.58732286,  3.21172513,  5.49583407,  6.53010288],\n",
       "        [ 3.66936143,  5.57197751,  5.46699038,  7.40601148,\n",
       "          5.45549368,  4.65551937,  7.55152212,  9.32431207],\n",
       "        [ 3.57718093,  5.3073296 ,  5.44571559,  6.6441512 ,\n",
       "          4.75785787,  4.30098894,  7.39225053,  8.73458225]]])"
      ]
     },
     "execution_count": 16,
     "metadata": {},
     "output_type": "execute_result"
    }
   ],
   "source": [
    "y"
   ]
  },
  {
   "cell_type": "code",
   "execution_count": 17,
   "metadata": {},
   "outputs": [
    {
     "data": {
      "text/plain": [
       "(3, 8, 8)"
      ]
     },
     "execution_count": 17,
     "metadata": {},
     "output_type": "execute_result"
    }
   ],
   "source": [
    "y.shape"
   ]
  },
  {
   "cell_type": "code",
   "execution_count": null,
   "metadata": {},
   "outputs": [],
   "source": []
  }
 ],
 "metadata": {
  "kernelspec": {
   "display_name": "tf",
   "language": "python",
   "name": "python3"
  },
  "language_info": {
   "codemirror_mode": {
    "name": "ipython",
    "version": 3
   },
   "file_extension": ".py",
   "mimetype": "text/x-python",
   "name": "python",
   "nbconvert_exporter": "python",
   "pygments_lexer": "ipython3",
   "version": "3.10.7"
  },
  "orig_nbformat": 4,
  "vscode": {
   "interpreter": {
    "hash": "33a2e84c581f807a98512e14b5d3ba9d677e9d077bd64ce3b8213804b8999a19"
   }
  }
 },
 "nbformat": 4,
 "nbformat_minor": 2
}
