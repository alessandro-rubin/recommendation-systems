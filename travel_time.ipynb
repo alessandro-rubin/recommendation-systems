{
 "cells": [
  {
   "attachments": {},
   "cell_type": "markdown",
   "metadata": {},
   "source": [
    "# Travel time estimation using tensor decomposition"
   ]
  },
  {
   "attachments": {},
   "cell_type": "markdown",
   "metadata": {},
   "source": [
    "Resources:\n",
    "\n",
    "https://www.microsoft.com/en-us/research/publication/trajectory-data-mining-an-overview/ \n",
    "\n",
    "https://www.microsoft.com/en-us/research/wp-content/uploads/2015/09/TrajectoryDataMining-tist-yuzheng.pdf\n",
    "\n",
    "\n",
    "Formula to implement:\n",
    "\n",
    "\n",
    "\\begin{aligned}\n",
    "\\mathcal{L}(S, R, U, T, F, G)=&\\frac{1}{2}\\left\\|\\mathcal{A}-S \\times_R R \\times_U U \\times_T T\\right\\|^2+\\frac{\\lambda_1}{2}\\|X-T G\\|^2 \\\\\n",
    "+&\\frac{\\lambda_2}{2}\\|Y-R F\\|^2+\\frac{\\lambda_3}{2}\\left(\\|S\\|^2+\\|R\\|^2+\\|U\\|^2+\\|T\\|^2+\\|F\\|^2+\\|G\\|^2\\right)\n",
    "\\end{aligned}"
   ]
  },
  {
   "attachments": {},
   "cell_type": "markdown",
   "metadata": {},
   "source": [
    "## Formula explaination\n",
    "\n",
    "This formula describes the loss function for a tensor decomposition (factorization) method in order to estimate the three dimensional tensor $\\mathcal{A}$. $\\mathcal{A}$ encodes the user-specific travel time in the following way: and entry $\\mathcal{A_{ijk}}$ of $\\mathcal{A}$ is the time that the $j$-th driver takes to travel in the $i$-th road segment in the $k$-th daily time slot "
   ]
  },
  {
   "cell_type": "code",
   "execution_count": null,
   "metadata": {},
   "outputs": [],
   "source": [
    "import numpy as np"
   ]
  },
  {
   "cell_type": "code",
   "execution_count": null,
   "metadata": {},
   "outputs": [],
   "source": [
    "dU=5\n",
    "dR=6\n",
    "dT=3\n"
   ]
  }
 ],
 "metadata": {
  "kernelspec": {
   "display_name": "base",
   "language": "python",
   "name": "python3"
  },
  "language_info": {
   "name": "python",
   "version": "3.8.8 (default, Apr 13 2021, 15:08:03) [MSC v.1916 64 bit (AMD64)]"
  },
  "orig_nbformat": 4,
  "vscode": {
   "interpreter": {
    "hash": "68b83d36125722a4cfa54faf6473e9cfaf94e2e30a32ae0e02287cb9789563ab"
   }
  }
 },
 "nbformat": 4,
 "nbformat_minor": 2
}
