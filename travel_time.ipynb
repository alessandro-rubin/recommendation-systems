{
 "cells": [
  {
   "attachments": {},
   "cell_type": "markdown",
   "metadata": {},
   "source": [
    "# Travel time estimation using tensor decomposition"
   ]
  },
  {
   "attachments": {},
   "cell_type": "markdown",
   "metadata": {},
   "source": [
    "Resources:\n",
    "\n",
    "https://www.microsoft.com/en-us/research/publication/trajectory-data-mining-an-overview/ \n",
    "\n",
    "https://www.microsoft.com/en-us/research/wp-content/uploads/2015/09/TrajectoryDataMining-tist-yuzheng.pdf\n",
    "\n",
    "\n",
    "Formula to implement:\n",
    "\n",
    "\n",
    "\\begin{aligned}\n",
    "\\mathcal{L}(S, R, U, T, F, G)=&\\frac{1}{2}\\left\\|\\mathcal{A}-S \\times_R R \\times_U U \\times_T T\\right\\|^2+\\frac{\\lambda_1}{2}\\|X-T G\\|^2 \\\\\n",
    "+&\\frac{\\lambda_2}{2}\\|Y-R F\\|^2+\\frac{\\lambda_3}{2}\\left(\\|S\\|^2+\\|R\\|^2+\\|U\\|^2+\\|T\\|^2+\\|F\\|^2+\\|G\\|^2\\right)\n",
    "\\end{aligned}\n",
    "\n",
    "\n",
    "\n",
    "\n",
    "\n"
   ]
  },
  {
   "attachments": {},
   "cell_type": "markdown",
   "metadata": {},
   "source": [
    "## Formula explanation\n",
    "\n",
    "This formula describes the loss function for a tensor decomposition (factorization) method in order to estimate the three-dimensional tensor $\\mathcal{A}$. \n",
    "\n",
    "$\\mathcal{A}$ encodes the user-specific travel time in the following way: and entry $\\mathcal{A_{ijk}}$ of $\\mathcal{A}$ is the time that the $j$-th driver takes to travel in the $i$-th road segment in the $k$-th daily time slot. Therefore $\\mathcal{A}$ is essentially a three dimensional array. We can know certain entries of this tensor by tracking user's GPS signal, but a large amount of entries in this tensor are unknowns, as users will only drive in certain roads at certain times, therefore we aim to estimate them. Intuitively, we could try to guess some of the missing entries based on existing ones by eyeballing correlations in the data: for example, if at a given time of the day the travel time for users is large in certain road segments, we expect that there is traffic there, and therefore we can estimate long travel times for other drivers, too.\n",
    "\n",
    "\n",
    "In order to help doing this 2 more matrices are introduced: $X$ and $Y$, with their associated term in the loss function enabling the factorization of each of them as the product of two matrices. $X$ represents the correlation between time slots and coarse grained traffic conditions (precisely number of vehicles transiting in a grid slot in a given time interval), while $Y$ stores road segments geographical features.\n",
    "\n",
    "Finally, a regularization term is added in order to prevent overfitting, this term in the loss function helps keeping all the components of the matrices and tensors small.\n",
    "\n",
    "We need to estimate the tensor $\\mathcal{A}$ by decomposing it into a product. The measure of the \"fitness\" of the decomposition is given by the sum of the square of the difference between the entries for which A is known and its decomposition $\\phi =S \\times_R R \\times_U U \\times_T T $, ie.e the Frobenius norm $||\\mathcal{A}- \\phi||_{F}$ and similarly with the matrices $X$ and $Y$. \n",
    "\n",
    "More explicitely:\n",
    "\n",
    "$$||\\mathcal{A}- \\phi||_{F}= \\sum_i \\sum_j \\sum_k (A_{ijk}-\\phi_{ijk})^2$$\n",
    "\n",
    "From this, we compute the gradient of this loss function with respect each component of the matrices we decompose A into, and use this in a gradient descent algorithm. Each iteration computes the gradient and updates the matrices in such a way the loss is minimized.\n",
    "\n",
    "In synthesis, this is an optimization algorithm in which array are factorized in lower rank arrays, in order to minimize the squared difference between the entries of the given array and the one estimated with the factorization. \n",
    "\n",
    "Data types involved are at most rank-3 numerical arrays. The input are the arrays $\\mathcal{A}$, $X$, and $Y$, obtained by data mining, e.g. by analyzing GPS trajectories, maps etc.. The output is the tensor $\\mathcal{A}$ estimated by the product (more precisely the contraction) of the tensor $S$ with $R$, $U$, $T$, all estimated in the optimization algorithm.\n",
    "\n",
    "In order to develop the algorithm one can use many possible programming language and libraries. \n",
    "\n",
    "An algorithm using he library numpy can get the job done, however more advanced packages such as scipy, tensorly, scikit-learn, pytorch and tensorflow all offer already developed methods to implement such algorithm, as optimization problems involving tensors are quite common in the field of data science.\n",
    "\n",
    "A key point to consider is that we only know some entries of the tensor $\\mathcal{A}$, and we can only use those in order to estimate the factor tensors $S$, $R$, $U$, $T$. \n"
   ]
  },
  {
   "attachments": {},
   "cell_type": "markdown",
   "metadata": {},
   "source": [
    "## Implementation (prototype solution)"
   ]
  },
  {
   "attachments": {},
   "cell_type": "markdown",
   "metadata": {},
   "source": [
    "An example of a gradient descent algorithm and its implementation is given below. The gradient is computed. Then for each $i$, $j$, $k$, for which the tensor $\\mathcal{A}$ is known, the gradient is used to update the variables:\n",
    "\n",
    "\\begin{aligned}\n",
    "\\phi_{i j k}= & S \\times_R R_{i *} \\times_U U_{j *} \\times_T T_{k *} ; \\\\\n",
    "R_{i *} & \\leftarrow R_{i *}-\\eta \\lambda_3 R_{i *}-\\eta\\left(\\phi_{i j k}-\\mathcal{A}_{i j k}\\right) \\times S \\times_U U_{j *} \\times_T T_{k *} \\\\\n",
    "& -\\eta \\lambda_2\\left(R_{i *} \\times F-Y_{i *}\\right) \\times F ; \\\\\n",
    "U_{j *} \\leftarrow & U_{j *}-\\eta \\lambda_3 U_{j *}-\\eta\\left(\\phi_{i j k}-\\mathcal{A}_{i j k}\\right) \\times S \\times_R R_{i *} \\times_T T_{k *} \\\\\n",
    "T_{k *} \\leftarrow & T_{k *}-\\eta \\lambda_3 T_{k *}-\\eta\\left(\\phi_{i j k}-\\mathcal{A}_{i j k}\\right) \\times S \\times_R R_{i *} \\times_U U_{j *} \\\\\n",
    "& \\quad-\\eta \\lambda_1\\left(T_{k *} \\times G-X_{k *}\\right) \\times G ; \\\\\n",
    "S \\leftarrow & S-\\eta \\lambda_3 S-\\eta\\left(\\phi_{i j k}-\\mathcal{A}_{i j k}\\right) \\times R_{i *} \\otimes U_{j *} \\otimes T_{k *} \\\\\n",
    "G \\leftarrow & G-\\eta \\lambda_3 G-\\eta \\lambda_1\\left(T_{k *} \\times G-X_{k *}\\right) \\times T_{k *} \\\\\n",
    "F \\leftarrow & F-\\eta \\lambda_3 F-\\eta \\lambda_2\\left(R_{i *} \\times F-Y_{i *}\\right) \\times R_{i *}\n",
    "\\end{aligned}\n",
    "\n",
    "Note: there are also automatic ways to compute the gradient of a function wrt its argument, such as automatic differentiation in pytorch and tensorflow.\n",
    "\n",
    "There are also several other optimization techniques that do not involve computing gradients."
   ]
  },
  {
   "cell_type": "code",
   "execution_count": 112,
   "metadata": {},
   "outputs": [],
   "source": [
    "import numpy as np\n",
    "import matplotlib.pyplot as plt\n",
    "from numba import jit, cuda #to speed up calculations"
   ]
  },
  {
   "cell_type": "code",
   "execution_count": 113,
   "metadata": {},
   "outputs": [],
   "source": [
    "def phi_tensor(s,r,u,t):\n",
    "    ''' phi tensor, defined above.\n",
    "    it's the product of the tensor s with the matrices r,u,t\n",
    "    has the same dimensions of A'''\n",
    "    return np.einsum('ijk,ai,bj,ck->abc',s,r,u,t)\n",
    "    \n",
    "#@jit(target_backend='cuda')\n",
    "def phi_ijk(s,r,u,t,a,b,c):\n",
    "    '''(i,j,k)th component of phi,\n",
    "    i.e. the contraction of s with r,u,t tensors'''\n",
    "    return np.einsum('ijk,i,j,k->',s,r[a,:],u[b,:],t[c,:])\n",
    "def phi_ijk_2(s,ri,uj,tk):\n",
    "    '''a possibly more optimized version\n",
    "    ri,uj,tk=r[i,:],u[j,:],t[k,:]'''\n",
    "    return np.einsum('ijk,i,j,k->',s,ri,uj,tk)\n",
    "def rut(r,u,t,a,b,c):\n",
    "    '''tensor product of i,j,k th components\n",
    "    of r,u,t'''\n",
    "    return np.einsum('i,j,k->ijk',r[a,:],u[b,:],t[c,:])\n",
    "def compute_loss(a,x,y,s,r,u,t,f,g,lamb1=1,lamb2=1,lamb3=1):\n",
    "    '''implementation of the loss function itself.\n",
    "    the loss is composed by the sum of 4 different terms,\n",
    "    they will be computed separately\n",
    "    1st term is the one involving a\n",
    "    2nd involves x\n",
    "    3rd involves y\n",
    "    4 is the regularization\n",
    "    '''\n",
    "    #problem: should sum only for i,j,k for which a_ijk >0: so I should implements a mask\n",
    "    phi=phi_tensor(s,r,u,t)\n",
    "    mask=np.where(a > 0, 1, 0)\n",
    "    first=np.linalg.norm((a-phi)*mask)**2\n",
    "    second=np.linalg.norm(x-t@g)**2\n",
    "    third=np.linalg.norm(y-r@f)**2\n",
    "    fourth=np.linalg.norm(s)**2+ np.linalg.norm(r)**2+ np.linalg.norm(u)**2+ np.linalg.norm(t)**2+ np.linalg.norm(f)**2+ np.linalg.norm(g)**2\n",
    "    loss=0.5*first+0.5*lamb1*second+lamb2*0.5*third+lamb3*0.5*fourth\n",
    "    return loss\n",
    "def compute_loss_a(a,x,y,s,r,u,t):\n",
    "    '''only computes the loss of a\n",
    "    '''\n",
    "    #problem: should sum only for i,j,k for which a_ijk >0: so I should implements a mask\n",
    "    phi=phi_tensor(s,r,u,t)\n",
    "    mask=np.where(a > 0, 1, 0)\n",
    "    first=np.linalg.norm((a-phi)*mask)**2\n",
    "    loss=0.5*first\n",
    "    return loss"
   ]
  },
  {
   "cell_type": "code",
   "execution_count": 114,
   "metadata": {},
   "outputs": [],
   "source": [
    "#latent dimensions\n",
    "dU=5\n",
    "dR=7\n",
    "dT=3\n",
    "# dimensions of X,Y tensor\n",
    "dX=11 #aka p\n",
    "dY=13 #aka q\n",
    "# dimensions of A tensor\n",
    "n=3 #road segments\n",
    "m= 9 #drivers\n",
    "l= 4#time slots\n"
   ]
  },
  {
   "cell_type": "code",
   "execution_count": 115,
   "metadata": {},
   "outputs": [],
   "source": [
    "#factorization tensors initialization. Those are the tensors the algorithm has to output\n",
    "\n",
    "s=np.random.rand(dR,dU,dT)\n",
    "r=np.random.rand(n,dR)\n",
    "u=np.random.rand(m,dU)\n",
    "t=np.random.rand(2*l,dT)\n",
    "phi=np.einsum('ijk,ai,bj,ck->abc',s,r,u,t)#tensor contraction between s,r,u,t: should be a nxmx2l tensor\n",
    "f=np.random.rand(dR,dY)\n",
    "g=np.random.rand(dT,dX)"
   ]
  },
  {
   "cell_type": "code",
   "execution_count": 116,
   "metadata": {},
   "outputs": [
    {
     "name": "stdout",
     "output_type": "stream",
     "text": [
      "(3, 9, 8)\n"
     ]
    }
   ],
   "source": [
    "## those tensors would be computed from available data, here in this toy model I randomly initialize them\n",
    "\n",
    "a=np.random.randint(0,15,size=(n,m,2*l))\n",
    "x=np.random.randint(0,5,size=(2*l,dX))\n",
    "y=np.random.randint(0,4,size=(n,dY))\n",
    "\n",
    "print(a.shape)"
   ]
  },
  {
   "cell_type": "code",
   "execution_count": 117,
   "metadata": {},
   "outputs": [
    {
     "data": {
      "text/plain": [
       "14084.999999999998"
      ]
     },
     "execution_count": 117,
     "metadata": {},
     "output_type": "execute_result"
    }
   ],
   "source": [
    "np.linalg.norm(a)**2"
   ]
  },
  {
   "cell_type": "code",
   "execution_count": 118,
   "metadata": {},
   "outputs": [],
   "source": [
    "mask=np.where(a > 0, 1, 0)#select only entries where a is greater than 0"
   ]
  },
  {
   "cell_type": "code",
   "execution_count": 119,
   "metadata": {},
   "outputs": [
    {
     "data": {
      "text/plain": [
       "6102.2258903513675"
      ]
     },
     "execution_count": 119,
     "metadata": {},
     "output_type": "execute_result"
    }
   ],
   "source": [
    "phi=phi_tensor(s,r,u,t)\n",
    "np.einsum('abc,abc,abc->',a-phi,a-phi,mask)"
   ]
  },
  {
   "cell_type": "code",
   "execution_count": 120,
   "metadata": {},
   "outputs": [
    {
     "data": {
      "text/plain": [
       "6102.225890351367"
      ]
     },
     "execution_count": 120,
     "metadata": {},
     "output_type": "execute_result"
    }
   ],
   "source": [
    "np.einsum('abc,abc->',(a-phi)*mask,(a-phi)*mask)"
   ]
  },
  {
   "cell_type": "code",
   "execution_count": 121,
   "metadata": {},
   "outputs": [
    {
     "data": {
      "text/plain": [
       "7290.850222333576"
      ]
     },
     "execution_count": 121,
     "metadata": {},
     "output_type": "execute_result"
    }
   ],
   "source": [
    "np.einsum('abc,abc->',a-phi,a-phi)"
   ]
  },
  {
   "cell_type": "code",
   "execution_count": 122,
   "metadata": {},
   "outputs": [
    {
     "data": {
      "text/plain": [
       "9.011625355292061"
      ]
     },
     "execution_count": 122,
     "metadata": {},
     "output_type": "execute_result"
    }
   ],
   "source": [
    "i,j,k=0,1,5\n",
    "phi[i][j][k]"
   ]
  },
  {
   "cell_type": "code",
   "execution_count": 123,
   "metadata": {},
   "outputs": [
    {
     "data": {
      "text/plain": [
       "(11,)"
      ]
     },
     "execution_count": 123,
     "metadata": {},
     "output_type": "execute_result"
    }
   ],
   "source": [
    "(t@g-x)[k,:].shape"
   ]
  },
  {
   "cell_type": "code",
   "execution_count": 124,
   "metadata": {},
   "outputs": [
    {
     "data": {
      "text/plain": [
       "array([0.86497765, 0.82840807, 0.87438179])"
      ]
     },
     "execution_count": 124,
     "metadata": {},
     "output_type": "execute_result"
    }
   ],
   "source": [
    "t.T[:,k]"
   ]
  },
  {
   "cell_type": "code",
   "execution_count": 125,
   "metadata": {},
   "outputs": [
    {
     "data": {
      "text/plain": [
       "array([[-2.19082937, -0.13959644, -2.17395639,  1.25816069,  0.41320911,\n",
       "        -3.06996411, -2.18608219, -0.74990821,  1.39505449, -2.78583262,\n",
       "        -1.00486581],\n",
       "       [-2.09820536, -0.13369457, -2.08204574,  1.2049681 ,  0.39573943,\n",
       "        -2.94017199, -2.09365888, -0.71820355,  1.33607429, -2.66805303,\n",
       "        -0.96238203],\n",
       "       [-2.21464834, -0.14111415, -2.19759192,  1.27183957,  0.41770157,\n",
       "        -3.10334114, -2.20984955, -0.75806131,  1.4102217 , -2.81612054,\n",
       "        -1.01579083]])"
      ]
     },
     "execution_count": 125,
     "metadata": {},
     "output_type": "execute_result"
    }
   ],
   "source": [
    "np.einsum('a,b->ab',t.T[:,k],(t@g-x)[k,:])"
   ]
  },
  {
   "cell_type": "code",
   "execution_count": 126,
   "metadata": {},
   "outputs": [
    {
     "data": {
      "text/plain": [
       "array([[-2.19082937, -0.13959644, -2.17395639,  1.25816069,  0.41320911,\n",
       "        -3.06996411, -2.18608219, -0.74990821,  1.39505449, -2.78583262,\n",
       "        -1.00486581],\n",
       "       [-2.09820536, -0.13369457, -2.08204574,  1.2049681 ,  0.39573943,\n",
       "        -2.94017199, -2.09365888, -0.71820355,  1.33607429, -2.66805303,\n",
       "        -0.96238203],\n",
       "       [-2.21464834, -0.14111415, -2.19759192,  1.27183957,  0.41770157,\n",
       "        -3.10334114, -2.20984955, -0.75806131,  1.4102217 , -2.81612054,\n",
       "        -1.01579083]])"
      ]
     },
     "execution_count": 126,
     "metadata": {},
     "output_type": "execute_result"
    }
   ],
   "source": [
    "np.tensordot( t[k,:],t[k,:]@g-x[k,:],axes=0)"
   ]
  },
  {
   "cell_type": "code",
   "execution_count": 127,
   "metadata": {},
   "outputs": [
    {
     "data": {
      "text/plain": [
       "9.011625355292061"
      ]
     },
     "execution_count": 127,
     "metadata": {},
     "output_type": "execute_result"
    }
   ],
   "source": [
    "np.einsum('ijk,i,j,k->',s,r[i,:],u[j,:],t[k,:])"
   ]
  },
  {
   "cell_type": "code",
   "execution_count": 128,
   "metadata": {},
   "outputs": [
    {
     "name": "stdout",
     "output_type": "stream",
     "text": [
      "(7, 5, 3)\n"
     ]
    }
   ],
   "source": [
    "print(rut(r,u,t,0,0,0).shape)"
   ]
  },
  {
   "cell_type": "code",
   "execution_count": 129,
   "metadata": {},
   "outputs": [
    {
     "data": {
      "text/plain": [
       "(7,)"
      ]
     },
     "execution_count": 129,
     "metadata": {},
     "output_type": "execute_result"
    }
   ],
   "source": [
    "np.einsum('abc,b,c->a',s,u[j],t[k]).shape"
   ]
  },
  {
   "cell_type": "code",
   "execution_count": 130,
   "metadata": {},
   "outputs": [
    {
     "data": {
      "text/plain": [
       "array([7.45026381, 4.43098866, 5.25643655, 4.36030085, 6.406081  ,\n",
       "       5.03003286, 0.7091586 ])"
      ]
     },
     "execution_count": 130,
     "metadata": {},
     "output_type": "execute_result"
    }
   ],
   "source": [
    "r[i,:]-(phi_ijk(s,r,u,t,i,j,k)-a[i,j,k])*np.einsum('abc,b,c->a',s,u[j],t[k])-(r[i]@f-y[i])@f.T"
   ]
  },
  {
   "cell_type": "code",
   "execution_count": 131,
   "metadata": {},
   "outputs": [],
   "source": [
    "#@jit(target_backend='cuda')\n",
    "def matrix_factorization(a,x,y,epsilon=0.001,steps=1000,eta=0.001,dR=10,dU=10,dT=10,lamb1=1,lamb2=1,lamb3=1):\n",
    "    '''\n",
    "    element-wise optimization algorithm\n",
    "    a: target tensor of shape n x m x l \n",
    "    x,y: context matrices\n",
    "    steps: max iterations\n",
    "    eta: learning rate\n",
    "    epsilon: treshold for early stop\n",
    "    dR,dU,dT: dimensions of latent spaces\n",
    "    '''\n",
    "    n,m,twol=a.shape\n",
    "    dG=x.shape[1]\n",
    "    dF=y.shape[1]\n",
    "    #initialize s,r,u,t,f,g\n",
    "    s=np.random.rand(dR,dU,dT)\n",
    "    r=np.random.rand(n,dR)\n",
    "    u=np.random.rand(m,dU)\n",
    "    t=np.random.rand(twol,dT)\n",
    "    f=np.random.rand(dR,dF)\n",
    "    g=np.random.rand(dT,dG)\n",
    "    #for i,j,k for which a[ijk]=! 0\n",
    "        #compute gradient of loss\n",
    "    losses=[]\n",
    "    losses_a=[]\n",
    "    for steps in range(steps):\n",
    "        if True :#loss_i-loss_i-1 > epsilon\n",
    "            for i in range(n):\n",
    "                for j in range(m):\n",
    "                    for k in range(twol):\n",
    "                        if a[i,j,k]>0:\n",
    "                            phiijk=phi_ijk(s,r,u,t,i,j,k)\n",
    "                            #compute all gradients\n",
    "                            gradr=lamb3* r[i,:]+(phi_ijk(s,r,u,t,i,j,k)-a[i,j,k])*np.einsum('abc,b,c->a',s,u[j],t[k])+lamb2*(r[i]@f-y[i])@f.T\n",
    "                            gradu=lamb3* u[j,:]+(phi_ijk(s,r,u,t,i,j,k)-a[i,j,k])*np.einsum('abc,a,c->b',s,r[i],t[k])\n",
    "                            gradt=lamb3* t[k,:]+(phi_ijk(s,r,u,t,i,j,k)-a[i,j,k])*np.einsum('abc,a,b->c',s,r[i],u[j])+lamb1*(t[k]@g-x[k])@g.T\n",
    "                            grads=lamb3*s+ (phi_ijk(s,r,u,t,i,j,k)-a[i,j,k])*rut(r,u,t,i,j,k)\n",
    "                            gradg=lamb3*g+lamb1*np.tensordot( t[k,:],t[k,:]@g-x[k,:],axes=0)\n",
    "                            gradf=lamb3*f+lamb2*np.tensordot( r[i,:],r[i,:]@f-y[i,:],axes=0)\n",
    "                            #update all parameters\n",
    "                            r[i]=r[i] - eta*gradr\n",
    "                            u[j]=u[j] - eta*gradu\n",
    "                            t[k]=t[k] - eta*gradt\n",
    "                            g=g - gradg*eta\n",
    "                            f=f - gradf*eta\n",
    "                            s=s - eta*grads\n",
    "\n",
    "        #here, compute loss\n",
    "        loss=compute_loss(a,x,y,s,r,u,t,f,g,lamb1,lamb2,lamb3)\n",
    "        loss_a=compute_loss_a(a,x,y,s,r,u,t)\n",
    "        losses.append(loss)\n",
    "        losses_a.append(loss_a)\n",
    "    return s,r,u,t,losses,losses_a"
   ]
  },
  {
   "cell_type": "code",
   "execution_count": 132,
   "metadata": {},
   "outputs": [],
   "source": [
    "s,r,u,t,losses,losses_a=matrix_factorization(a,x,y)"
   ]
  },
  {
   "cell_type": "code",
   "execution_count": 133,
   "metadata": {},
   "outputs": [
    {
     "data": {
      "image/png": "[encoded data removed]",
      "text/plain": [
       "<Figure size 640x480 with 1 Axes>"
      ]
     },
     "metadata": {},
     "output_type": "display_data"
    }
   ],
   "source": [
    "plt.plot(losses)\n",
    "plt.plot(losses_a)\n",
    "plt.ylabel('Loss')\n",
    "plt.xlabel('step')\n",
    "plt.show()"
   ]
  },
  {
   "cell_type": "code",
   "execution_count": 134,
   "metadata": {},
   "outputs": [
    {
     "data": {
      "text/plain": [
       "array([[ 3, 10,  6,  8,  7,  9,  6,  6],\n",
       "       [ 6,  4, 10,  1,  2, 13, 12,  1],\n",
       "       [ 4,  8,  7, 14,  4,  5,  0, 11],\n",
       "       [10,  2,  1,  7,  9,  9, 13,  2],\n",
       "       [ 5,  5, 11,  6,  0,  6,  8,  5],\n",
       "       [ 4,  4, 14,  3, 14, 10,  0, 12],\n",
       "       [13,  9, 10,  4,  3, 12, 10, 12],\n",
       "       [ 6,  3, 12,  5,  5, 11,  0,  3],\n",
       "       [14,  9,  3,  0,  3,  1, 11,  3]])"
      ]
     },
     "execution_count": 134,
     "metadata": {},
     "output_type": "execute_result"
    }
   ],
   "source": [
    "a[0]"
   ]
  },
  {
   "cell_type": "code",
   "execution_count": 135,
   "metadata": {},
   "outputs": [
    {
     "data": {
      "text/plain": [
       "array([[ 4.25328777,  8.19467427,  7.36670572,  6.82475898,  7.87880502,\n",
       "         7.33981308,  6.77610273,  6.67886916],\n",
       "       [ 7.26494824,  3.80536241,  9.87681572,  3.60697425,  5.54295812,\n",
       "        10.98820721,  8.2537634 ,  3.88210945],\n",
       "       [ 6.40224338,  7.7745012 ,  6.70399854, 10.7399843 ,  4.4553875 ,\n",
       "         5.81733792,  7.50638182,  8.34699941],\n",
       "       [ 9.00861933,  3.39975574,  3.12562314,  6.78026777,  7.14471383,\n",
       "         7.8813562 , 10.73898468,  2.73802507],\n",
       "       [ 5.33016576,  4.78099868,  9.90088436,  5.46756447,  8.12397911,\n",
       "         6.45903508,  7.75069288,  5.33617846],\n",
       "       [ 4.48718622,  5.9473963 , 12.70061159,  4.12963429, 12.28088582,\n",
       "         9.14716666,  7.48062338, 10.89005849],\n",
       "       [12.25707102,  9.31095317,  9.35237105,  5.69929549,  5.2971116 ,\n",
       "        10.65825923,  9.27020118,  8.85626888],\n",
       "       [ 5.61290921,  3.43351152, 10.23865864,  4.1066802 ,  5.63292315,\n",
       "         9.9148658 ,  5.44800278,  3.75755405],\n",
       "       [10.921014  ,  7.55683971,  2.63945689,  7.15399929,  2.30858416,\n",
       "         2.12907481,  8.75093946,  4.05666758]])"
      ]
     },
     "execution_count": 135,
     "metadata": {},
     "output_type": "execute_result"
    }
   ],
   "source": [
    "phi_tensor(s,r,u,t)[0]"
   ]
  },
  {
   "attachments": {},
   "cell_type": "markdown",
   "metadata": {},
   "source": [
    "Tensorflow implementation"
   ]
  },
  {
   "cell_type": "code",
   "execution_count": 142,
   "metadata": {},
   "outputs": [],
   "source": [
    "import tensorflow as tf\n",
    "\n",
    "def custom_loss(data, approx, mask):#how to obtain mask?\n",
    "    known_data = tf.boolean_mask(data, mask)\n",
    "    known_approx = tf.boolean_mask(approx, mask)\n",
    "    return tf.norm(known_data - known_approx)\n",
    "\n",
    "def factorize_tensor(data, mask, dU=10,dT=10,dR=10):#todo: change arguments\n",
    "    n,m,twol=data.shape\n",
    "    core_tensor = tf.Variable(tf.random.normal([dU,dT,dR]))\n",
    "    user_matrix = tf.Variable(tf.random.normal([m,dU]))\n",
    "    time_matrix = tf.Variable(tf.random.normal([twol,dT]))\n",
    "    road_matrix = tf.Variable(tf.random.normal([n,dR]))\n",
    "\n",
    "    approx_tensor = tf.einsum('ijk,ai,bj,ck->abc', core_tensor,road_matrix, user_matrix, time_matrix)\n",
    "    loss = custom_loss(data, approx_tensor, mask)\n",
    "    optimizer = tf.optimizers.Adam()\n",
    "\n",
    "    for i in range(1000): # number of optimization steps\n",
    "        with tf.GradientTape() as tape:\n",
    "            tape.watch([core_tensor, user_matrix, time_matrix, road_matrix])\n",
    "            current_loss = custom_loss(data, approx_tensor, mask)\n",
    "        gradients = tape.gradient(current_loss, [core_tensor, user_matrix, time_matrix, road_matrix])\n",
    "        optimizer.apply_gradients(zip(gradients, [core_tensor, user_matrix, time_matrix, road_matrix]))\n",
    "\n",
    "    return core_tensor, user_matrix, time_matrix, road_matrix\n"
   ]
  },
  {
   "cell_type": "code",
   "execution_count": 143,
   "metadata": {},
   "outputs": [
    {
     "ename": "InvalidArgumentError",
     "evalue": "cannot compute Sub as input #1(zero-based) was expected to be a int32 tensor but is a float tensor [Op:Sub]",
     "output_type": "error",
     "traceback": [
      "\u001b[1;31m---------------------------------------------------------------------------\u001b[0m",
      "\u001b[1;31mInvalidArgumentError\u001b[0m                      Traceback (most recent call last)",
      "Cell \u001b[1;32mIn [143], line 1\u001b[0m\n\u001b[1;32m----> 1\u001b[0m factorize_tensor(a,mask\u001b[39m=\u001b[39;49mnp\u001b[39m.\u001b[39;49mwhere(a \u001b[39m>\u001b[39;49m \u001b[39m0\u001b[39;49m, \u001b[39m1\u001b[39;49m, \u001b[39m0\u001b[39;49m))\n",
      "Cell \u001b[1;32mIn [142], line 16\u001b[0m, in \u001b[0;36mfactorize_tensor\u001b[1;34m(data, mask, dU, dT, dR)\u001b[0m\n\u001b[0;32m     13\u001b[0m road_matrix \u001b[39m=\u001b[39m tf\u001b[39m.\u001b[39mVariable(tf\u001b[39m.\u001b[39mrandom\u001b[39m.\u001b[39mnormal([n,dR]))\n\u001b[0;32m     15\u001b[0m approx_tensor \u001b[39m=\u001b[39m tf\u001b[39m.\u001b[39meinsum(\u001b[39m'\u001b[39m\u001b[39mijk,ai,bj,ck->abc\u001b[39m\u001b[39m'\u001b[39m, core_tensor,road_matrix, user_matrix, time_matrix)\n\u001b[1;32m---> 16\u001b[0m loss \u001b[39m=\u001b[39m custom_loss(data, approx_tensor, mask)\n\u001b[0;32m     17\u001b[0m optimizer \u001b[39m=\u001b[39m tf\u001b[39m.\u001b[39moptimizers\u001b[39m.\u001b[39mAdam()\n\u001b[0;32m     19\u001b[0m \u001b[39mfor\u001b[39;00m i \u001b[39min\u001b[39;00m \u001b[39mrange\u001b[39m(\u001b[39m1000\u001b[39m): \u001b[39m# number of optimization steps\u001b[39;00m\n",
      "Cell \u001b[1;32mIn [142], line 6\u001b[0m, in \u001b[0;36mcustom_loss\u001b[1;34m(data, approx, mask)\u001b[0m\n\u001b[0;32m      4\u001b[0m known_data \u001b[39m=\u001b[39m tf\u001b[39m.\u001b[39mboolean_mask(data, mask)\n\u001b[0;32m      5\u001b[0m known_approx \u001b[39m=\u001b[39m tf\u001b[39m.\u001b[39mboolean_mask(approx, mask)\n\u001b[1;32m----> 6\u001b[0m \u001b[39mreturn\u001b[39;00m tf\u001b[39m.\u001b[39mnorm(known_data \u001b[39m-\u001b[39;49m known_approx)\n",
      "File \u001b[1;32mc:\\Users\\Alessandro\\anaconda3\\envs\\tf\\lib\\site-packages\\tensorflow\\python\\util\\traceback_utils.py:153\u001b[0m, in \u001b[0;36mfilter_traceback.<locals>.error_handler\u001b[1;34m(*args, **kwargs)\u001b[0m\n\u001b[0;32m    151\u001b[0m \u001b[39mexcept\u001b[39;00m \u001b[39mException\u001b[39;00m \u001b[39mas\u001b[39;00m e:\n\u001b[0;32m    152\u001b[0m   filtered_tb \u001b[39m=\u001b[39m _process_traceback_frames(e\u001b[39m.\u001b[39m__traceback__)\n\u001b[1;32m--> 153\u001b[0m   \u001b[39mraise\u001b[39;00m e\u001b[39m.\u001b[39mwith_traceback(filtered_tb) \u001b[39mfrom\u001b[39;00m \u001b[39mNone\u001b[39m\n\u001b[0;32m    154\u001b[0m \u001b[39mfinally\u001b[39;00m:\n\u001b[0;32m    155\u001b[0m   \u001b[39mdel\u001b[39;00m filtered_tb\n",
      "File \u001b[1;32mc:\\Users\\Alessandro\\anaconda3\\envs\\tf\\lib\\site-packages\\tensorflow\\python\\framework\\ops.py:7164\u001b[0m, in \u001b[0;36mraise_from_not_ok_status\u001b[1;34m(e, name)\u001b[0m\n\u001b[0;32m   7162\u001b[0m \u001b[39mdef\u001b[39;00m \u001b[39mraise_from_not_ok_status\u001b[39m(e, name):\n\u001b[0;32m   7163\u001b[0m   e\u001b[39m.\u001b[39mmessage \u001b[39m+\u001b[39m\u001b[39m=\u001b[39m (\u001b[39m\"\u001b[39m\u001b[39m name: \u001b[39m\u001b[39m\"\u001b[39m \u001b[39m+\u001b[39m name \u001b[39mif\u001b[39;00m name \u001b[39mis\u001b[39;00m \u001b[39mnot\u001b[39;00m \u001b[39mNone\u001b[39;00m \u001b[39melse\u001b[39;00m \u001b[39m\"\u001b[39m\u001b[39m\"\u001b[39m)\n\u001b[1;32m-> 7164\u001b[0m   \u001b[39mraise\u001b[39;00m core\u001b[39m.\u001b[39m_status_to_exception(e) \u001b[39mfrom\u001b[39;00m \u001b[39mNone\u001b[39m\n",
      "\u001b[1;31mInvalidArgumentError\u001b[0m: cannot compute Sub as input #1(zero-based) was expected to be a int32 tensor but is a float tensor [Op:Sub]"
     ]
    }
   ],
   "source": [
    "factorize_tensor(a,mask=np.where(a > 0, 1, 0))"
   ]
  }
 ],
 "metadata": {
  "kernelspec": {
   "display_name": "tf",
   "language": "python",
   "name": "python3"
  },
  "language_info": {
   "codemirror_mode": {
    "name": "ipython",
    "version": 3
   },
   "file_extension": ".py",
   "mimetype": "text/x-python",
   "name": "python",
   "nbconvert_exporter": "python",
   "pygments_lexer": "ipython3",
   "version": "3.10.7 | packaged by conda-forge | (main, Nov 21 2022, 13:11:14) [MSC v.1929 64 bit (AMD64)]"
  },
  "orig_nbformat": 4,
  "vscode": {
   "interpreter": {
    "hash": "33a2e84c581f807a98512e14b5d3ba9d677e9d077bd64ce3b8213804b8999a19"
   }
  }
 },
 "nbformat": 4,
 "nbformat_minor": 2
}
