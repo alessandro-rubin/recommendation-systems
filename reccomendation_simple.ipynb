{
 "cells": [
  {
   "attachments": {},
   "cell_type": "markdown",
   "metadata": {},
   "source": [
    "# Reccomendation systems and matrix factorization: simple problem"
   ]
  },
  {
   "cell_type": "code",
   "execution_count": 1,
   "metadata": {},
   "outputs": [],
   "source": [
    "import numpy as np\n"
   ]
  },
  {
   "attachments": {},
   "cell_type": "markdown",
   "metadata": {},
   "source": [
    "Goal: predict rating matrix R"
   ]
  },
  {
   "cell_type": "code",
   "execution_count": 2,
   "metadata": {},
   "outputs": [],
   "source": [
    "\n",
    "def matrix_factorization(R, P, Q, K, steps=5000, alpha=0.0002, beta=0.02):\n",
    "    '''\n",
    "    R: rating matrix\n",
    "    P: |U| * K (User features matrix)\n",
    "    Q: |D| * K (Item features matrix)\n",
    "    K: latent features\n",
    "    steps: iterations\n",
    "    alpha: learning rate\n",
    "    beta: regularization parameter'''\n",
    "    Q = Q.T\n",
    "\n",
    "    for step in range(steps):\n",
    "        for i in range(len(R)):\n",
    "            for j in range(len(R[i])):\n",
    "                if R[i][j] > 0:\n",
    "                    # calculate error\n",
    "                    eij = R[i][j] - np.dot(P[i,:],Q[:,j])\n",
    "\n",
    "                    for k in range(K):\n",
    "                        # calculate gradient with a and beta parameter\n",
    "                        P[i][k] = P[i][k] + alpha * (2 * eij * Q[k][j] - beta * P[i][k])\n",
    "                        Q[k][j] = Q[k][j] + alpha * (2 * eij * P[i][k] - beta * Q[k][j])\n",
    "\n",
    "        eR = np.dot(P,Q)\n",
    "\n",
    "        e = 0\n",
    "\n",
    "        for i in range(len(R)):\n",
    "\n",
    "            for j in range(len(R[i])):\n",
    "\n",
    "                if R[i][j] > 0:\n",
    "\n",
    "                    e = e + pow(R[i][j] - np.dot(P[i,:],Q[:,j]), 2)\n",
    "\n",
    "                    for k in range(K):\n",
    "\n",
    "                        e = e + (beta/2) * (pow(P[i][k],2) + pow(Q[k][j],2))\n",
    "        # 0.001: local minimum\n",
    "        if e < 0.001:\n",
    "\n",
    "            break\n",
    "\n",
    "    return P, Q.T"
   ]
  },
  {
   "cell_type": "code",
   "execution_count": 6,
   "metadata": {},
   "outputs": [
    {
     "name": "stdout",
     "output_type": "stream",
     "text": [
      "6  users,  4  movies,  5  latent features. \n",
      "\n",
      "[[ 1.53656129  1.24614958 -0.10221173  1.00163894  0.41025439]\n",
      " [ 1.33376243  0.92530544  0.04562848  0.76676008  0.35558781]\n",
      " [ 0.15725308  0.43873174  1.93049583  0.56083617  0.55930663]\n",
      " [-0.05871996  0.15187616  1.31077021  0.87664054  0.6603998 ]\n",
      " [ 0.1158897   0.94437145  1.08147067  0.70980613  1.00155184]\n",
      " [ 0.2900646   0.50898561  0.48712224  0.7161552   0.54106564]] \n",
      " [[ 1.33511827  1.28726029 -0.38340059  0.9487346   0.82408923]\n",
      " [ 1.18804757  0.69868631  0.16694487  0.32945993 -0.11093618]\n",
      " [ 0.53556405  1.63883002  1.27608172  1.08432395  1.17501228]\n",
      " [-0.27187323  0.41486887  2.0080886   0.6945079   0.99474551]]\n"
     ]
    }
   ],
   "source": [
    "R = [\n",
    "\n",
    "     [5,3,0,1],\n",
    "\n",
    "     [4,0,0,1],\n",
    "\n",
    "     [1,1,0,5],\n",
    "\n",
    "     [1,0,0,4],\n",
    "\n",
    "     [0,1,5,4],\n",
    "    \n",
    "     [2,1,3,0],\n",
    "\n",
    "    ]\n",
    "\n",
    "R = np.array(R)\n",
    "# N: num of User\n",
    "N = len(R)\n",
    "# M: num of Movie\n",
    "M = len(R[0])\n",
    "# Num of Features\n",
    "K = 5\n",
    "\n",
    "print(N, ' users, ', M, ' movies, ', K ,' latent features. \\n')\n",
    "\n",
    " \n",
    "P = np.random.rand(N,K)\n",
    "Q = np.random.rand(M,K)\n",
    "\n",
    " \n",
    "\n",
    "nP, nQ = matrix_factorization(R, P, Q, K)\n",
    "\n",
    "print(nP,'\\n',nQ)\n",
    "\n",
    "nR = np.dot(nP, nQ.T)"
   ]
  },
  {
   "cell_type": "code",
   "execution_count": 4,
   "metadata": {},
   "outputs": [
    {
     "name": "stdout",
     "output_type": "stream",
     "text": [
      "[[5 3 0 1]\n",
      " [4 0 0 1]\n",
      " [1 1 0 5]\n",
      " [1 0 0 4]\n",
      " [0 1 5 4]\n",
      " [2 1 3 0]]\n",
      "[[4.99066211 2.95094562 3.57483161 1.00141365]\n",
      " [3.97622203 2.07457151 3.48623887 0.99842713]\n",
      " [1.03849821 0.92565163 3.84873891 4.96856383]\n",
      " [0.99128311 0.57169908 3.48270744 3.97837047]\n",
      " [2.52536799 1.07708425 4.949422   4.00483039]\n",
      " [1.95470206 1.00878967 3.0218246  2.38007949]]\n"
     ]
    }
   ],
   "source": [
    "print(R)\n",
    "print(nR)"
   ]
  }
 ],
 "metadata": {
  "kernelspec": {
   "display_name": "base",
   "language": "python",
   "name": "python3"
  },
  "language_info": {
   "codemirror_mode": {
    "name": "ipython",
    "version": 3
   },
   "file_extension": ".py",
   "mimetype": "text/x-python",
   "name": "python",
   "nbconvert_exporter": "python",
   "pygments_lexer": "ipython3",
   "version": "3.8.8"
  },
  "orig_nbformat": 4,
  "vscode": {
   "interpreter": {
    "hash": "68b83d36125722a4cfa54faf6473e9cfaf94e2e30a32ae0e02287cb9789563ab"
   }
  }
 },
 "nbformat": 4,
 "nbformat_minor": 2
}
