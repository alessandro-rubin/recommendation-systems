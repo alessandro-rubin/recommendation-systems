{
 "cells": [
  {
   "attachments": {},
   "cell_type": "markdown",
   "metadata": {},
   "source": [
    "# Reccomendation systems and matrix factorization: simple problem"
   ]
  },
  {
   "cell_type": "code",
   "execution_count": 5,
   "metadata": {},
   "outputs": [],
   "source": [
    "import numpy as np\n",
    "from numba import jit, cuda"
   ]
  },
  {
   "attachments": {},
   "cell_type": "markdown",
   "metadata": {},
   "source": [
    "Goal: predict rating matrix R"
   ]
  },
  {
   "cell_type": "code",
   "execution_count": 6,
   "metadata": {},
   "outputs": [],
   "source": [
    "@jit(target_backend='cuda')\n",
    "def matrix_factorization(R, P, Q, K, steps=5000, alpha=0.0002, beta=0.02):\n",
    "    '''\n",
    "    R: rating matrix\n",
    "    P: |U| * K (User features matrix)\n",
    "    Q: |D| * K (Item features matrix)\n",
    "    K: latent features\n",
    "    steps: iterations\n",
    "    alpha: learning rate\n",
    "    beta: regularization parameter'''\n",
    "    Q = Q.T\n",
    "\n",
    "    for step in range(steps):\n",
    "        for i in range(len(R)):\n",
    "            for j in range(len(R[i])):\n",
    "                if R[i][j] > 0:\n",
    "                    # calculate error\n",
    "                    eij = R[i][j] - np.dot(P[i,:],Q[:,j])\n",
    "\n",
    "                    for k in range(K):\n",
    "                        # calculate gradient with a and beta parameter\n",
    "                        P[i][k] = P[i][k] + alpha * (2 * eij * Q[k][j] - beta * P[i][k])\n",
    "                        Q[k][j] = Q[k][j] + alpha * (2 * eij * P[i][k] - beta * Q[k][j])\n",
    "\n",
    "        eR = np.dot(P,Q)\n",
    "\n",
    "        e = 0\n",
    "\n",
    "        for i in range(len(R)):\n",
    "\n",
    "            for j in range(len(R[i])):\n",
    "\n",
    "                if R[i][j] > 0:\n",
    "\n",
    "                    e = e + pow(R[i][j] - np.dot(P[i,:],Q[:,j]), 2)\n",
    "\n",
    "                    for k in range(K):\n",
    "\n",
    "                        e = e + (beta/2) * (pow(P[i][k],2) + pow(Q[k][j],2))\n",
    "        # 0.001: local minimum\n",
    "        if e < 0.001:\n",
    "\n",
    "            break\n",
    "\n",
    "    return P, Q.T"
   ]
  },
  {
   "cell_type": "code",
   "execution_count": 7,
   "metadata": {},
   "outputs": [
    {
     "name": "stdout",
     "output_type": "stream",
     "text": [
      "6  users,  4  movies,  4  latent features. \n",
      "\n",
      "[[ 2.21372298  0.77463189  0.49124813  0.3633514 ]\n",
      " [ 1.56210693  0.26626723  0.82584016  0.45431807]\n",
      " [-0.17240097  1.70757604  0.71960777  1.07517046]\n",
      " [-0.11541815  0.92258779  0.50144412  1.35555145]\n",
      " [ 0.42723794  1.10282556  0.666133    1.29368385]\n",
      " [ 0.75908983  0.34217763  0.12135414  0.75895846]] \n",
      " [[ 1.93393304  0.16811448  0.83969293  0.45959907]\n",
      " [ 1.08752885  0.52033128  0.27531648 -0.03380285]\n",
      " [ 1.59791576  1.50249961  0.89434836  1.53923227]\n",
      " [-0.52591091  1.5231627   0.87067812  1.53141119]]\n"
     ]
    }
   ],
   "source": [
    "R = [\n",
    "\n",
    "     [5,3,0,1],\n",
    "\n",
    "     [4,0,0,1],\n",
    "\n",
    "     [1,1,0,5],\n",
    "\n",
    "     [1,0,0,4],\n",
    "\n",
    "     [0,1,5,4],\n",
    "    \n",
    "     [2,1,3,0],\n",
    "\n",
    "    ]\n",
    "\n",
    "R = np.array(R)\n",
    "# N: num of User\n",
    "N = len(R)\n",
    "# M: num of Movie\n",
    "M = len(R[0])\n",
    "# Num of Features\n",
    "K = 4\n",
    "\n",
    "print(N, ' users, ', M, ' movies, ', K ,' latent features. \\n')\n",
    "\n",
    " \n",
    "P = np.random.rand(N,K)\n",
    "Q = np.random.rand(M,K)\n",
    "\n",
    " \n",
    "\n",
    "nP, nQ = matrix_factorization(R, P, Q, K)\n",
    "\n",
    "print(nP,'\\n',nQ)\n",
    "\n",
    "nR = np.dot(nP, nQ.T)"
   ]
  },
  {
   "cell_type": "code",
   "execution_count": 8,
   "metadata": {},
   "outputs": [
    {
     "name": "stdout",
     "output_type": "stream",
     "text": [
      "[[5 3 0 1]\n",
      " [4 0 0 1]\n",
      " [1 1 0 5]\n",
      " [1 0 0 4]\n",
      " [0 1 5 4]\n",
      " [2 1 3 0]]\n",
      "[[4.99091238 2.9335192  5.69985611 0.99982872]\n",
      " [3.96802988 2.04939369 4.33407152 0.99882796]\n",
      " [1.05205322 0.86279024 4.58866721 4.9646585 ]\n",
      " [0.97595865 0.44676504 3.73673358 3.97845406]\n",
      " [2.16557356 1.17813541 4.92672009 4.01624301]\n",
      " [1.97627073 1.01133366 3.00382959 1.38991645]]\n"
     ]
    }
   ],
   "source": [
    "print(R)\n",
    "print(nR)"
   ]
  }
 ],
 "metadata": {
  "kernelspec": {
   "display_name": "tf",
   "language": "python",
   "name": "python3"
  },
  "language_info": {
   "codemirror_mode": {
    "name": "ipython",
    "version": 3
   },
   "file_extension": ".py",
   "mimetype": "text/x-python",
   "name": "python",
   "nbconvert_exporter": "python",
   "pygments_lexer": "ipython3",
   "version": "3.10.7"
  },
  "orig_nbformat": 4,
  "vscode": {
   "interpreter": {
    "hash": "33a2e84c581f807a98512e14b5d3ba9d677e9d077bd64ce3b8213804b8999a19"
   }
  }
 },
 "nbformat": 4,
 "nbformat_minor": 2
}
